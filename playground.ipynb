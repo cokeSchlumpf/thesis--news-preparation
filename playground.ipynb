{
 "cells": [
  {
   "cell_type": "markdown",
   "metadata": {},
   "source": [
    "# Self Made Word2Vec Embeddings"
   ]
  },
  {
   "cell_type": "code",
   "execution_count": 1,
   "metadata": {},
   "outputs": [
    {
     "name": "stdout",
     "output_type": "stream",
     "text": [
      "Num GPUs Available:  1\n"
     ]
    },
    {
     "data": {
      "text/plain": "<module 'lib' (namespace)>"
     },
     "execution_count": 1,
     "metadata": {},
     "output_type": "execute_result"
    }
   ],
   "source": [
    "import lib\n",
    "import numpy as np\n",
    "import spacy\n",
    "import tensorflow as tf\n",
    "\n",
    "from functional import seq\n",
    "from importlib import reload\n",
    "from joblib import Memory\n",
    "from lib.data import load_data as load_data_lib\n",
    "from lib.text_preprocessing import preprocess_text, lemmatize, remove_stopwords, to_lower, tokenize, words_only\n",
    "from lib.vocabulary import Vocabulary, OOV_TOKEN, EMPTY_TOKEN\n",
    "from sklearn.metrics.pairwise import cosine_similarity\n",
    "from tensorflow import keras\n",
    "from tqdm import tqdm\n",
    "\n",
    "print(\"Num GPUs Available: \", len(tf.config.list_physical_devices('GPU')))\n",
    "# tf.debugging.set_log_device_placement(True)\n",
    "\n",
    "reload(lib)"
   ]
  },
  {
   "cell_type": "code",
   "execution_count": 2,
   "outputs": [],
   "source": [
    "mem = Memory('./data/cache', verbose=0)\n"
   ],
   "metadata": {
    "collapsed": false,
    "pycharm": {
     "name": "#%%\n"
    }
   }
  },
  {
   "cell_type": "markdown",
   "metadata": {},
   "source": [
    "## Prepare Raw Data"
   ]
  },
  {
   "cell_type": "code",
   "execution_count": 3,
   "metadata": {
    "pycharm": {
     "name": "#%%\n"
    }
   },
   "outputs": [],
   "source": [
    "preprocess_pipeline = [lemmatize, to_lower, words_only, remove_stopwords, tokenize]\n",
    "lang = spacy.load('de_dep_news_trf')\n",
    "\n",
    "@mem.cache\n",
    "def load_data():\n",
    "    res = load_data_lib()\n",
    "    return res\n",
    "\n",
    "data = load_data()"
   ]
  },
  {
   "cell_type": "code",
   "execution_count": 4,
   "metadata": {},
   "outputs": [
    {
     "data": {
      "text/plain": "20070"
     },
     "execution_count": 4,
     "metadata": {},
     "output_type": "execute_result"
    }
   ],
   "source": [
    "@mem.cache\n",
    "def preprocess_data():\n",
    "    return seq(tqdm(data['text'].to_numpy()))\\\n",
    "        .map(lambda text: preprocess_text(text, lang, preprocess_pipeline))\\\n",
    "        .to_list()\n",
    "\n",
    "samples = preprocess_data()\n",
    "len(samples)"
   ]
  },
  {
   "cell_type": "code",
   "execution_count": 5,
   "outputs": [],
   "source": [
    "# preprocess_data.clear()"
   ],
   "metadata": {
    "collapsed": false,
    "pycharm": {
     "name": "#%%\n"
    }
   }
  },
  {
   "cell_type": "code",
   "execution_count": 6,
   "metadata": {},
   "outputs": [
    {
     "name": "stderr",
     "output_type": "stream",
     "text": [
      "100%|██████████| 20070/20070 [00:01<00:00, 17819.43it/s]\n"
     ]
    },
    {
     "data": {
      "text/plain": "Vocabulary(name='default', size=145865, default_sample_length=9376)"
     },
     "execution_count": 6,
     "metadata": {},
     "output_type": "execute_result"
    }
   ],
   "source": [
    "vocabulary = seq(tqdm(samples))\\\n",
    "    .fold_left(lib.vocabulary.Vocabulary.builder(), lambda voc, sentence: voc.add_sample(sentence))\\\n",
    "    .build()\n",
    "vocabulary"
   ]
  },
  {
   "cell_type": "code",
   "execution_count": 7,
   "outputs": [],
   "source": [
    "#\n",
    "# Create model\n",
    "#\n",
    "\n",
    "model_in = keras.Input(shape=vocabulary.size, name='input')\n",
    "embedding_in = keras.layers.Dense(50, activation=keras.activations.relu, name='embedding')\n",
    "embedding_out = embedding_in(model_in)\n",
    "softmax_in = keras.layers.Dense(vocabulary.size, activation=keras.activations.softmax, name='softmax')\n",
    "softmax_out = softmax_in(embedding_out)"
   ],
   "metadata": {
    "collapsed": false,
    "pycharm": {
     "name": "#%%\n"
    }
   }
  },
  {
   "cell_type": "code",
   "execution_count": 8,
   "metadata": {},
   "outputs": [
    {
     "data": {
      "text/plain": "tf.float32"
     },
     "execution_count": 8,
     "metadata": {},
     "output_type": "execute_result"
    }
   ],
   "source": [
    "model_in.dtype"
   ]
  },
  {
   "cell_type": "code",
   "execution_count": 9,
   "metadata": {},
   "outputs": [
    {
     "name": "stdout",
     "output_type": "stream",
     "text": [
      "Model: \"word2vec\"\n",
      "_________________________________________________________________\n",
      "Layer (type)                 Output Shape              Param #   \n",
      "=================================================================\n",
      "input (InputLayer)           [(None, 145865)]          0         \n",
      "_________________________________________________________________\n",
      "embedding (Dense)            (None, 50)                7293300   \n",
      "_________________________________________________________________\n",
      "softmax (Dense)              (None, 145865)            7439115   \n",
      "=================================================================\n",
      "Total params: 14,732,415\n",
      "Trainable params: 14,732,415\n",
      "Non-trainable params: 0\n",
      "_________________________________________________________________\n"
     ]
    }
   ],
   "source": [
    "#\n",
    "# ...the model to learn the embedding\n",
    "#\n",
    "\n",
    "train_model = keras.Model(inputs=[model_in], outputs=[softmax_out], name='word2vec')\n",
    "train_model.compile(\n",
    "    loss=keras.losses.CategoricalCrossentropy(from_logits=True),\n",
    "    optimizer=keras.optimizers.RMSprop(),\n",
    "    metrics=[\"accuracy\"])\n",
    "\n",
    "\n",
    "train_model.summary()"
   ]
  },
  {
   "cell_type": "code",
   "execution_count": 10,
   "metadata": {},
   "outputs": [],
   "source": [
    "#\n",
    "# ...the model to calculate an embedding vector the tokens\n",
    "#\n",
    "\n",
    "calc_embedding = keras.Model(inputs=[train_model.input], outputs=[train_model.get_layer('embedding').output])"
   ]
  },
  {
   "cell_type": "markdown",
   "metadata": {},
   "source": [
    "## Train the embedding"
   ]
  },
  {
   "cell_type": "code",
   "execution_count": 14,
   "outputs": [
    {
     "name": "stdout",
     "output_type": "stream",
     "text": [
      "huhu\n",
      "9372\n",
      "Epoch 1/100\n",
      "huhu\n",
      "9372\n",
      "huhu\n",
      "9372\n"
     ]
    },
    {
     "ename": "InvalidArgumentError",
     "evalue": "2 root error(s) found.\n  (0) Invalid argument:  TypeError: `generator` yielded an element that could not be converted to the expected type. The expected type was int32, but the yielded element was SparseTensor(indices=tf.Tensor([[0 0]], shape=(1, 2), dtype=int64), values=tf.Tensor([1], shape=(1,), dtype=int32), dense_shape=tf.Tensor([  9372 145865], shape=(2,), dtype=int64)).\nTraceback (most recent call last):\n\n  File \"/home/michael/Workspaces/thesis--news-preparation/env/lib/python3.8/site-packages/tensorflow/python/data/ops/dataset_ops.py\", line 910, in generator_py_func\n    script_ops.FuncRegistry._convert(  # pylint: disable=protected-access\n\n  File \"/home/michael/Workspaces/thesis--news-preparation/env/lib/python3.8/site-packages/tensorflow/python/ops/script_ops.py\", line 209, in _convert\n    result = np.asarray(value, dtype=dtype, order=\"C\")\n\n  File \"/home/michael/Workspaces/thesis--news-preparation/env/lib/python3.8/site-packages/numpy/core/_asarray.py\", line 83, in asarray\n    return array(a, dtype, copy=False, order=order)\n\nTypeError: int() argument must be a string, a bytes-like object or a number, not 'SparseTensor'\n\n\nDuring handling of the above exception, another exception occurred:\n\n\nTraceback (most recent call last):\n\n  File \"/home/michael/Workspaces/thesis--news-preparation/env/lib/python3.8/site-packages/tensorflow/python/ops/script_ops.py\", line 249, in __call__\n    ret = func(*args)\n\n  File \"/home/michael/Workspaces/thesis--news-preparation/env/lib/python3.8/site-packages/tensorflow/python/autograph/impl/api.py\", line 620, in wrapper\n    return func(*args, **kwargs)\n\n  File \"/home/michael/Workspaces/thesis--news-preparation/env/lib/python3.8/site-packages/tensorflow/python/data/ops/dataset_ops.py\", line 914, in generator_py_func\n    six.reraise(\n\n  File \"/home/michael/Workspaces/thesis--news-preparation/env/lib/python3.8/site-packages/six.py\", line 702, in reraise\n    raise value.with_traceback(tb)\n\n  File \"/home/michael/Workspaces/thesis--news-preparation/env/lib/python3.8/site-packages/tensorflow/python/data/ops/dataset_ops.py\", line 910, in generator_py_func\n    script_ops.FuncRegistry._convert(  # pylint: disable=protected-access\n\n  File \"/home/michael/Workspaces/thesis--news-preparation/env/lib/python3.8/site-packages/tensorflow/python/ops/script_ops.py\", line 209, in _convert\n    result = np.asarray(value, dtype=dtype, order=\"C\")\n\n  File \"/home/michael/Workspaces/thesis--news-preparation/env/lib/python3.8/site-packages/numpy/core/_asarray.py\", line 83, in asarray\n    return array(a, dtype, copy=False, order=order)\n\nTypeError: `generator` yielded an element that could not be converted to the expected type. The expected type was int32, but the yielded element was SparseTensor(indices=tf.Tensor([[0 0]], shape=(1, 2), dtype=int64), values=tf.Tensor([1], shape=(1,), dtype=int32), dense_shape=tf.Tensor([  9372 145865], shape=(2,), dtype=int64)).\n\n\n\t [[{{node PyFunc}}]]\n\t [[IteratorGetNext]]\n\t [[IteratorGetNext/_4]]\n  (1) Invalid argument:  TypeError: `generator` yielded an element that could not be converted to the expected type. The expected type was int32, but the yielded element was SparseTensor(indices=tf.Tensor([[0 0]], shape=(1, 2), dtype=int64), values=tf.Tensor([1], shape=(1,), dtype=int32), dense_shape=tf.Tensor([  9372 145865], shape=(2,), dtype=int64)).\nTraceback (most recent call last):\n\n  File \"/home/michael/Workspaces/thesis--news-preparation/env/lib/python3.8/site-packages/tensorflow/python/data/ops/dataset_ops.py\", line 910, in generator_py_func\n    script_ops.FuncRegistry._convert(  # pylint: disable=protected-access\n\n  File \"/home/michael/Workspaces/thesis--news-preparation/env/lib/python3.8/site-packages/tensorflow/python/ops/script_ops.py\", line 209, in _convert\n    result = np.asarray(value, dtype=dtype, order=\"C\")\n\n  File \"/home/michael/Workspaces/thesis--news-preparation/env/lib/python3.8/site-packages/numpy/core/_asarray.py\", line 83, in asarray\n    return array(a, dtype, copy=False, order=order)\n\nTypeError: int() argument must be a string, a bytes-like object or a number, not 'SparseTensor'\n\n\nDuring handling of the above exception, another exception occurred:\n\n\nTraceback (most recent call last):\n\n  File \"/home/michael/Workspaces/thesis--news-preparation/env/lib/python3.8/site-packages/tensorflow/python/ops/script_ops.py\", line 249, in __call__\n    ret = func(*args)\n\n  File \"/home/michael/Workspaces/thesis--news-preparation/env/lib/python3.8/site-packages/tensorflow/python/autograph/impl/api.py\", line 620, in wrapper\n    return func(*args, **kwargs)\n\n  File \"/home/michael/Workspaces/thesis--news-preparation/env/lib/python3.8/site-packages/tensorflow/python/data/ops/dataset_ops.py\", line 914, in generator_py_func\n    six.reraise(\n\n  File \"/home/michael/Workspaces/thesis--news-preparation/env/lib/python3.8/site-packages/six.py\", line 702, in reraise\n    raise value.with_traceback(tb)\n\n  File \"/home/michael/Workspaces/thesis--news-preparation/env/lib/python3.8/site-packages/tensorflow/python/data/ops/dataset_ops.py\", line 910, in generator_py_func\n    script_ops.FuncRegistry._convert(  # pylint: disable=protected-access\n\n  File \"/home/michael/Workspaces/thesis--news-preparation/env/lib/python3.8/site-packages/tensorflow/python/ops/script_ops.py\", line 209, in _convert\n    result = np.asarray(value, dtype=dtype, order=\"C\")\n\n  File \"/home/michael/Workspaces/thesis--news-preparation/env/lib/python3.8/site-packages/numpy/core/_asarray.py\", line 83, in asarray\n    return array(a, dtype, copy=False, order=order)\n\nTypeError: `generator` yielded an element that could not be converted to the expected type. The expected type was int32, but the yielded element was SparseTensor(indices=tf.Tensor([[0 0]], shape=(1, 2), dtype=int64), values=tf.Tensor([1], shape=(1,), dtype=int32), dense_shape=tf.Tensor([  9372 145865], shape=(2,), dtype=int64)).\n\n\n\t [[{{node PyFunc}}]]\n\t [[IteratorGetNext]]\n0 successful operations.\n0 derived errors ignored. [Op:__inference_train_function_1238]\n\nFunction call stack:\ntrain_function -> train_function\n",
     "output_type": "error",
     "traceback": [
      "\u001B[0;31m---------------------------------------------------------------------------\u001B[0m",
      "\u001B[0;31mInvalidArgumentError\u001B[0m                      Traceback (most recent call last)",
      "\u001B[0;32m<ipython-input-14-5bd665d32023>\u001B[0m in \u001B[0;36m<module>\u001B[0;34m\u001B[0m\n\u001B[1;32m     50\u001B[0m         \u001B[0;32mreturn\u001B[0m \u001B[0mmath\u001B[0m\u001B[0;34m.\u001B[0m\u001B[0mceil\u001B[0m\u001B[0;34m(\u001B[0m\u001B[0mself\u001B[0m\u001B[0;34m.\u001B[0m\u001B[0m_samples_idx\u001B[0m\u001B[0;34m.\u001B[0m\u001B[0mshape\u001B[0m\u001B[0;34m[\u001B[0m\u001B[0;36m0\u001B[0m\u001B[0;34m]\u001B[0m \u001B[0;34m/\u001B[0m \u001B[0mself\u001B[0m\u001B[0;34m.\u001B[0m\u001B[0m_batch_size\u001B[0m\u001B[0;34m)\u001B[0m\u001B[0;34m\u001B[0m\u001B[0;34m\u001B[0m\u001B[0m\n\u001B[1;32m     51\u001B[0m \u001B[0;34m\u001B[0m\u001B[0m\n\u001B[0;32m---> 52\u001B[0;31m history = train_model.fit(\n\u001B[0m\u001B[1;32m     53\u001B[0m     \u001B[0mWord2VecDataGenerator\u001B[0m\u001B[0;34m(\u001B[0m\u001B[0msamples\u001B[0m\u001B[0;34m,\u001B[0m \u001B[0mvocabulary\u001B[0m\u001B[0;34m)\u001B[0m\u001B[0;34m,\u001B[0m\u001B[0;34m\u001B[0m\u001B[0;34m\u001B[0m\u001B[0m\n\u001B[1;32m     54\u001B[0m     epochs=100)\n",
      "\u001B[0;32m~/Workspaces/thesis--news-preparation/env/lib/python3.8/site-packages/tensorflow/python/keras/engine/training.py\u001B[0m in \u001B[0;36mfit\u001B[0;34m(self, x, y, batch_size, epochs, verbose, callbacks, validation_split, validation_data, shuffle, class_weight, sample_weight, initial_epoch, steps_per_epoch, validation_steps, validation_batch_size, validation_freq, max_queue_size, workers, use_multiprocessing)\u001B[0m\n\u001B[1;32m   1098\u001B[0m                 _r=1):\n\u001B[1;32m   1099\u001B[0m               \u001B[0mcallbacks\u001B[0m\u001B[0;34m.\u001B[0m\u001B[0mon_train_batch_begin\u001B[0m\u001B[0;34m(\u001B[0m\u001B[0mstep\u001B[0m\u001B[0;34m)\u001B[0m\u001B[0;34m\u001B[0m\u001B[0;34m\u001B[0m\u001B[0m\n\u001B[0;32m-> 1100\u001B[0;31m               \u001B[0mtmp_logs\u001B[0m \u001B[0;34m=\u001B[0m \u001B[0mself\u001B[0m\u001B[0;34m.\u001B[0m\u001B[0mtrain_function\u001B[0m\u001B[0;34m(\u001B[0m\u001B[0miterator\u001B[0m\u001B[0;34m)\u001B[0m\u001B[0;34m\u001B[0m\u001B[0;34m\u001B[0m\u001B[0m\n\u001B[0m\u001B[1;32m   1101\u001B[0m               \u001B[0;32mif\u001B[0m \u001B[0mdata_handler\u001B[0m\u001B[0;34m.\u001B[0m\u001B[0mshould_sync\u001B[0m\u001B[0;34m:\u001B[0m\u001B[0;34m\u001B[0m\u001B[0;34m\u001B[0m\u001B[0m\n\u001B[1;32m   1102\u001B[0m                 \u001B[0mcontext\u001B[0m\u001B[0;34m.\u001B[0m\u001B[0masync_wait\u001B[0m\u001B[0;34m(\u001B[0m\u001B[0;34m)\u001B[0m\u001B[0;34m\u001B[0m\u001B[0;34m\u001B[0m\u001B[0m\n",
      "\u001B[0;32m~/Workspaces/thesis--news-preparation/env/lib/python3.8/site-packages/tensorflow/python/eager/def_function.py\u001B[0m in \u001B[0;36m__call__\u001B[0;34m(self, *args, **kwds)\u001B[0m\n\u001B[1;32m    826\u001B[0m     \u001B[0mtracing_count\u001B[0m \u001B[0;34m=\u001B[0m \u001B[0mself\u001B[0m\u001B[0;34m.\u001B[0m\u001B[0mexperimental_get_tracing_count\u001B[0m\u001B[0;34m(\u001B[0m\u001B[0;34m)\u001B[0m\u001B[0;34m\u001B[0m\u001B[0;34m\u001B[0m\u001B[0m\n\u001B[1;32m    827\u001B[0m     \u001B[0;32mwith\u001B[0m \u001B[0mtrace\u001B[0m\u001B[0;34m.\u001B[0m\u001B[0mTrace\u001B[0m\u001B[0;34m(\u001B[0m\u001B[0mself\u001B[0m\u001B[0;34m.\u001B[0m\u001B[0m_name\u001B[0m\u001B[0;34m)\u001B[0m \u001B[0;32mas\u001B[0m \u001B[0mtm\u001B[0m\u001B[0;34m:\u001B[0m\u001B[0;34m\u001B[0m\u001B[0;34m\u001B[0m\u001B[0m\n\u001B[0;32m--> 828\u001B[0;31m       \u001B[0mresult\u001B[0m \u001B[0;34m=\u001B[0m \u001B[0mself\u001B[0m\u001B[0;34m.\u001B[0m\u001B[0m_call\u001B[0m\u001B[0;34m(\u001B[0m\u001B[0;34m*\u001B[0m\u001B[0margs\u001B[0m\u001B[0;34m,\u001B[0m \u001B[0;34m**\u001B[0m\u001B[0mkwds\u001B[0m\u001B[0;34m)\u001B[0m\u001B[0;34m\u001B[0m\u001B[0;34m\u001B[0m\u001B[0m\n\u001B[0m\u001B[1;32m    829\u001B[0m       \u001B[0mcompiler\u001B[0m \u001B[0;34m=\u001B[0m \u001B[0;34m\"xla\"\u001B[0m \u001B[0;32mif\u001B[0m \u001B[0mself\u001B[0m\u001B[0;34m.\u001B[0m\u001B[0m_experimental_compile\u001B[0m \u001B[0;32melse\u001B[0m \u001B[0;34m\"nonXla\"\u001B[0m\u001B[0;34m\u001B[0m\u001B[0;34m\u001B[0m\u001B[0m\n\u001B[1;32m    830\u001B[0m       \u001B[0mnew_tracing_count\u001B[0m \u001B[0;34m=\u001B[0m \u001B[0mself\u001B[0m\u001B[0;34m.\u001B[0m\u001B[0mexperimental_get_tracing_count\u001B[0m\u001B[0;34m(\u001B[0m\u001B[0;34m)\u001B[0m\u001B[0;34m\u001B[0m\u001B[0;34m\u001B[0m\u001B[0m\n",
      "\u001B[0;32m~/Workspaces/thesis--news-preparation/env/lib/python3.8/site-packages/tensorflow/python/eager/def_function.py\u001B[0m in \u001B[0;36m_call\u001B[0;34m(self, *args, **kwds)\u001B[0m\n\u001B[1;32m    853\u001B[0m       \u001B[0;31m# In this case we have created variables on the first call, so we run the\u001B[0m\u001B[0;34m\u001B[0m\u001B[0;34m\u001B[0m\u001B[0;34m\u001B[0m\u001B[0m\n\u001B[1;32m    854\u001B[0m       \u001B[0;31m# defunned version which is guaranteed to never create variables.\u001B[0m\u001B[0;34m\u001B[0m\u001B[0;34m\u001B[0m\u001B[0;34m\u001B[0m\u001B[0m\n\u001B[0;32m--> 855\u001B[0;31m       \u001B[0;32mreturn\u001B[0m \u001B[0mself\u001B[0m\u001B[0;34m.\u001B[0m\u001B[0m_stateless_fn\u001B[0m\u001B[0;34m(\u001B[0m\u001B[0;34m*\u001B[0m\u001B[0margs\u001B[0m\u001B[0;34m,\u001B[0m \u001B[0;34m**\u001B[0m\u001B[0mkwds\u001B[0m\u001B[0;34m)\u001B[0m  \u001B[0;31m# pylint: disable=not-callable\u001B[0m\u001B[0;34m\u001B[0m\u001B[0;34m\u001B[0m\u001B[0m\n\u001B[0m\u001B[1;32m    856\u001B[0m     \u001B[0;32melif\u001B[0m \u001B[0mself\u001B[0m\u001B[0;34m.\u001B[0m\u001B[0m_stateful_fn\u001B[0m \u001B[0;32mis\u001B[0m \u001B[0;32mnot\u001B[0m \u001B[0;32mNone\u001B[0m\u001B[0;34m:\u001B[0m\u001B[0;34m\u001B[0m\u001B[0;34m\u001B[0m\u001B[0m\n\u001B[1;32m    857\u001B[0m       \u001B[0;31m# Release the lock early so that multiple threads can perform the call\u001B[0m\u001B[0;34m\u001B[0m\u001B[0;34m\u001B[0m\u001B[0;34m\u001B[0m\u001B[0m\n",
      "\u001B[0;32m~/Workspaces/thesis--news-preparation/env/lib/python3.8/site-packages/tensorflow/python/eager/function.py\u001B[0m in \u001B[0;36m__call__\u001B[0;34m(self, *args, **kwargs)\u001B[0m\n\u001B[1;32m   2940\u001B[0m       (graph_function,\n\u001B[1;32m   2941\u001B[0m        filtered_flat_args) = self._maybe_define_function(args, kwargs)\n\u001B[0;32m-> 2942\u001B[0;31m     return graph_function._call_flat(\n\u001B[0m\u001B[1;32m   2943\u001B[0m         filtered_flat_args, captured_inputs=graph_function.captured_inputs)  # pylint: disable=protected-access\n\u001B[1;32m   2944\u001B[0m \u001B[0;34m\u001B[0m\u001B[0m\n",
      "\u001B[0;32m~/Workspaces/thesis--news-preparation/env/lib/python3.8/site-packages/tensorflow/python/eager/function.py\u001B[0m in \u001B[0;36m_call_flat\u001B[0;34m(self, args, captured_inputs, cancellation_manager)\u001B[0m\n\u001B[1;32m   1916\u001B[0m         and executing_eagerly):\n\u001B[1;32m   1917\u001B[0m       \u001B[0;31m# No tape is watching; skip to running the function.\u001B[0m\u001B[0;34m\u001B[0m\u001B[0;34m\u001B[0m\u001B[0;34m\u001B[0m\u001B[0m\n\u001B[0;32m-> 1918\u001B[0;31m       return self._build_call_outputs(self._inference_function.call(\n\u001B[0m\u001B[1;32m   1919\u001B[0m           ctx, args, cancellation_manager=cancellation_manager))\n\u001B[1;32m   1920\u001B[0m     forward_backward = self._select_forward_and_backward_functions(\n",
      "\u001B[0;32m~/Workspaces/thesis--news-preparation/env/lib/python3.8/site-packages/tensorflow/python/eager/function.py\u001B[0m in \u001B[0;36mcall\u001B[0;34m(self, ctx, args, cancellation_manager)\u001B[0m\n\u001B[1;32m    553\u001B[0m       \u001B[0;32mwith\u001B[0m \u001B[0m_InterpolateFunctionError\u001B[0m\u001B[0;34m(\u001B[0m\u001B[0mself\u001B[0m\u001B[0;34m)\u001B[0m\u001B[0;34m:\u001B[0m\u001B[0;34m\u001B[0m\u001B[0;34m\u001B[0m\u001B[0m\n\u001B[1;32m    554\u001B[0m         \u001B[0;32mif\u001B[0m \u001B[0mcancellation_manager\u001B[0m \u001B[0;32mis\u001B[0m \u001B[0;32mNone\u001B[0m\u001B[0;34m:\u001B[0m\u001B[0;34m\u001B[0m\u001B[0;34m\u001B[0m\u001B[0m\n\u001B[0;32m--> 555\u001B[0;31m           outputs = execute.execute(\n\u001B[0m\u001B[1;32m    556\u001B[0m               \u001B[0mstr\u001B[0m\u001B[0;34m(\u001B[0m\u001B[0mself\u001B[0m\u001B[0;34m.\u001B[0m\u001B[0msignature\u001B[0m\u001B[0;34m.\u001B[0m\u001B[0mname\u001B[0m\u001B[0;34m)\u001B[0m\u001B[0;34m,\u001B[0m\u001B[0;34m\u001B[0m\u001B[0;34m\u001B[0m\u001B[0m\n\u001B[1;32m    557\u001B[0m               \u001B[0mnum_outputs\u001B[0m\u001B[0;34m=\u001B[0m\u001B[0mself\u001B[0m\u001B[0;34m.\u001B[0m\u001B[0m_num_outputs\u001B[0m\u001B[0;34m,\u001B[0m\u001B[0;34m\u001B[0m\u001B[0;34m\u001B[0m\u001B[0m\n",
      "\u001B[0;32m~/Workspaces/thesis--news-preparation/env/lib/python3.8/site-packages/tensorflow/python/eager/execute.py\u001B[0m in \u001B[0;36mquick_execute\u001B[0;34m(op_name, num_outputs, inputs, attrs, ctx, name)\u001B[0m\n\u001B[1;32m     57\u001B[0m   \u001B[0;32mtry\u001B[0m\u001B[0;34m:\u001B[0m\u001B[0;34m\u001B[0m\u001B[0;34m\u001B[0m\u001B[0m\n\u001B[1;32m     58\u001B[0m     \u001B[0mctx\u001B[0m\u001B[0;34m.\u001B[0m\u001B[0mensure_initialized\u001B[0m\u001B[0;34m(\u001B[0m\u001B[0;34m)\u001B[0m\u001B[0;34m\u001B[0m\u001B[0;34m\u001B[0m\u001B[0m\n\u001B[0;32m---> 59\u001B[0;31m     tensors = pywrap_tfe.TFE_Py_Execute(ctx._handle, device_name, op_name,\n\u001B[0m\u001B[1;32m     60\u001B[0m                                         inputs, attrs, num_outputs)\n\u001B[1;32m     61\u001B[0m   \u001B[0;32mexcept\u001B[0m \u001B[0mcore\u001B[0m\u001B[0;34m.\u001B[0m\u001B[0m_NotOkStatusException\u001B[0m \u001B[0;32mas\u001B[0m \u001B[0me\u001B[0m\u001B[0;34m:\u001B[0m\u001B[0;34m\u001B[0m\u001B[0;34m\u001B[0m\u001B[0m\n",
      "\u001B[0;31mInvalidArgumentError\u001B[0m: 2 root error(s) found.\n  (0) Invalid argument:  TypeError: `generator` yielded an element that could not be converted to the expected type. The expected type was int32, but the yielded element was SparseTensor(indices=tf.Tensor([[0 0]], shape=(1, 2), dtype=int64), values=tf.Tensor([1], shape=(1,), dtype=int32), dense_shape=tf.Tensor([  9372 145865], shape=(2,), dtype=int64)).\nTraceback (most recent call last):\n\n  File \"/home/michael/Workspaces/thesis--news-preparation/env/lib/python3.8/site-packages/tensorflow/python/data/ops/dataset_ops.py\", line 910, in generator_py_func\n    script_ops.FuncRegistry._convert(  # pylint: disable=protected-access\n\n  File \"/home/michael/Workspaces/thesis--news-preparation/env/lib/python3.8/site-packages/tensorflow/python/ops/script_ops.py\", line 209, in _convert\n    result = np.asarray(value, dtype=dtype, order=\"C\")\n\n  File \"/home/michael/Workspaces/thesis--news-preparation/env/lib/python3.8/site-packages/numpy/core/_asarray.py\", line 83, in asarray\n    return array(a, dtype, copy=False, order=order)\n\nTypeError: int() argument must be a string, a bytes-like object or a number, not 'SparseTensor'\n\n\nDuring handling of the above exception, another exception occurred:\n\n\nTraceback (most recent call last):\n\n  File \"/home/michael/Workspaces/thesis--news-preparation/env/lib/python3.8/site-packages/tensorflow/python/ops/script_ops.py\", line 249, in __call__\n    ret = func(*args)\n\n  File \"/home/michael/Workspaces/thesis--news-preparation/env/lib/python3.8/site-packages/tensorflow/python/autograph/impl/api.py\", line 620, in wrapper\n    return func(*args, **kwargs)\n\n  File \"/home/michael/Workspaces/thesis--news-preparation/env/lib/python3.8/site-packages/tensorflow/python/data/ops/dataset_ops.py\", line 914, in generator_py_func\n    six.reraise(\n\n  File \"/home/michael/Workspaces/thesis--news-preparation/env/lib/python3.8/site-packages/six.py\", line 702, in reraise\n    raise value.with_traceback(tb)\n\n  File \"/home/michael/Workspaces/thesis--news-preparation/env/lib/python3.8/site-packages/tensorflow/python/data/ops/dataset_ops.py\", line 910, in generator_py_func\n    script_ops.FuncRegistry._convert(  # pylint: disable=protected-access\n\n  File \"/home/michael/Workspaces/thesis--news-preparation/env/lib/python3.8/site-packages/tensorflow/python/ops/script_ops.py\", line 209, in _convert\n    result = np.asarray(value, dtype=dtype, order=\"C\")\n\n  File \"/home/michael/Workspaces/thesis--news-preparation/env/lib/python3.8/site-packages/numpy/core/_asarray.py\", line 83, in asarray\n    return array(a, dtype, copy=False, order=order)\n\nTypeError: `generator` yielded an element that could not be converted to the expected type. The expected type was int32, but the yielded element was SparseTensor(indices=tf.Tensor([[0 0]], shape=(1, 2), dtype=int64), values=tf.Tensor([1], shape=(1,), dtype=int32), dense_shape=tf.Tensor([  9372 145865], shape=(2,), dtype=int64)).\n\n\n\t [[{{node PyFunc}}]]\n\t [[IteratorGetNext]]\n\t [[IteratorGetNext/_4]]\n  (1) Invalid argument:  TypeError: `generator` yielded an element that could not be converted to the expected type. The expected type was int32, but the yielded element was SparseTensor(indices=tf.Tensor([[0 0]], shape=(1, 2), dtype=int64), values=tf.Tensor([1], shape=(1,), dtype=int32), dense_shape=tf.Tensor([  9372 145865], shape=(2,), dtype=int64)).\nTraceback (most recent call last):\n\n  File \"/home/michael/Workspaces/thesis--news-preparation/env/lib/python3.8/site-packages/tensorflow/python/data/ops/dataset_ops.py\", line 910, in generator_py_func\n    script_ops.FuncRegistry._convert(  # pylint: disable=protected-access\n\n  File \"/home/michael/Workspaces/thesis--news-preparation/env/lib/python3.8/site-packages/tensorflow/python/ops/script_ops.py\", line 209, in _convert\n    result = np.asarray(value, dtype=dtype, order=\"C\")\n\n  File \"/home/michael/Workspaces/thesis--news-preparation/env/lib/python3.8/site-packages/numpy/core/_asarray.py\", line 83, in asarray\n    return array(a, dtype, copy=False, order=order)\n\nTypeError: int() argument must be a string, a bytes-like object or a number, not 'SparseTensor'\n\n\nDuring handling of the above exception, another exception occurred:\n\n\nTraceback (most recent call last):\n\n  File \"/home/michael/Workspaces/thesis--news-preparation/env/lib/python3.8/site-packages/tensorflow/python/ops/script_ops.py\", line 249, in __call__\n    ret = func(*args)\n\n  File \"/home/michael/Workspaces/thesis--news-preparation/env/lib/python3.8/site-packages/tensorflow/python/autograph/impl/api.py\", line 620, in wrapper\n    return func(*args, **kwargs)\n\n  File \"/home/michael/Workspaces/thesis--news-preparation/env/lib/python3.8/site-packages/tensorflow/python/data/ops/dataset_ops.py\", line 914, in generator_py_func\n    six.reraise(\n\n  File \"/home/michael/Workspaces/thesis--news-preparation/env/lib/python3.8/site-packages/six.py\", line 702, in reraise\n    raise value.with_traceback(tb)\n\n  File \"/home/michael/Workspaces/thesis--news-preparation/env/lib/python3.8/site-packages/tensorflow/python/data/ops/dataset_ops.py\", line 910, in generator_py_func\n    script_ops.FuncRegistry._convert(  # pylint: disable=protected-access\n\n  File \"/home/michael/Workspaces/thesis--news-preparation/env/lib/python3.8/site-packages/tensorflow/python/ops/script_ops.py\", line 209, in _convert\n    result = np.asarray(value, dtype=dtype, order=\"C\")\n\n  File \"/home/michael/Workspaces/thesis--news-preparation/env/lib/python3.8/site-packages/numpy/core/_asarray.py\", line 83, in asarray\n    return array(a, dtype, copy=False, order=order)\n\nTypeError: `generator` yielded an element that could not be converted to the expected type. The expected type was int32, but the yielded element was SparseTensor(indices=tf.Tensor([[0 0]], shape=(1, 2), dtype=int64), values=tf.Tensor([1], shape=(1,), dtype=int32), dense_shape=tf.Tensor([  9372 145865], shape=(2,), dtype=int64)).\n\n\n\t [[{{node PyFunc}}]]\n\t [[IteratorGetNext]]\n0 successful operations.\n0 derived errors ignored. [Op:__inference_train_function_1238]\n\nFunction call stack:\ntrain_function -> train_function\n"
     ]
    }
   ],
   "source": [
    "#\n",
    "# Create a custom generator for generating Training samples from text.\n",
    "#\n",
    "\n",
    "from typing import List\n",
    "import math\n",
    "\n",
    "class Word2VecDataGenerator(tf.keras.utils.Sequence):\n",
    "\n",
    "    def __init__(self, text_samples: List[str], voc: Vocabulary, batch_size: int = 1, n: int = 2):\n",
    "        self._batch_size = batch_size\n",
    "        self._samples_idx = voc.samples_to_indices(text_samples)\n",
    "        self._voc = voc\n",
    "        self._n = n\n",
    "\n",
    "    def __getitem__(self, index):\n",
    "        window_size = 2*self._n+1\n",
    "\n",
    "        start = index * self._batch_size\n",
    "        end = start + self._batch_size\n",
    "        batch = self._samples_idx[start:end]\n",
    "\n",
    "        input_result = np.empty([0, self._voc.size])\n",
    "        output_result = np.empty([0, self._voc.size])\n",
    "\n",
    "        for sample in batch:\n",
    "            windows = [sample[j:j+window_size] for j in range(0, len(sample) - window_size + 1)]\n",
    "            windows = list(filter(lambda w: EMPTY_TOKEN not in w.tolist(), windows))\n",
    "\n",
    "            sample_input_result = np.zeros([len(windows), self._voc.size])\n",
    "            sample_output_result = np.zeros([len(windows), self._voc.size])\n",
    "\n",
    "            for i in range(0, len(windows)):\n",
    "                window = windows[i]\n",
    "                sample_input_result[i, window[self._n]] = 1\n",
    "\n",
    "                for j in range(1, self._n + 1):\n",
    "                    sample_output_result[i, window[self._n - j]] = 1\n",
    "                    sample_output_result[i, window[self._n + j]] = 1\n",
    "\n",
    "            input_result = sample_input_result # np.concatenate([input_result, sample_input_result])\n",
    "            output_result = sample_output_result # np.concatenate([output_result, sample_output_result])\n",
    "            print(\"huhu\")\n",
    "\n",
    "        #print(\"test\")\n",
    "        print(len(windows))\n",
    "        return tf.SparseTensor(indices=[[0,0]], values=[1], dense_shape=[len(windows), self._voc.size]), tf.SparseTensor(indices=[[0,0]], values=[1], dense_shape=[len(windows), self._voc.size])\n",
    "\n",
    "    def __len__(self):\n",
    "        return math.ceil(self._samples_idx.shape[0] / self._batch_size)\n",
    "\n",
    "history = train_model.fit(\n",
    "    Word2VecDataGenerator(samples, vocabulary),\n",
    "    epochs=100)"
   ],
   "metadata": {
    "collapsed": false,
    "pycharm": {
     "name": "#%%\n"
    }
   }
  },
  {
   "cell_type": "code",
   "execution_count": null,
   "metadata": {},
   "outputs": [],
   "source": [
    "history = train_model.fit(\n",
    "    Word2VecDataGenerator(samples, vocabulary),\n",
    "    epochs=100)"
   ]
  },
  {
   "cell_type": "code",
   "execution_count": null,
   "metadata": {},
   "outputs": [],
   "source": [
    "#\n",
    "# Calculate embedding vector for each token\n",
    "#\n",
    "embeddings_input = vocabulary.sample_to_binary_sparse(' '.join(vocabulary.token2index.keys()), max_len=0)\n",
    "embeddings_input.shape"
   ]
  },
  {
   "cell_type": "code",
   "execution_count": null,
   "metadata": {},
   "outputs": [],
   "source": [
    "embeddings = calc_embedding(embeddings_input).numpy()\n",
    "embeddings.shape"
   ]
  },
  {
   "cell_type": "code",
   "execution_count": null,
   "metadata": {},
   "outputs": [],
   "source": [
    "similarities = cosine_similarity(embeddings)\n",
    "oov_idx = vocabulary.token_to_index(OOV_TOKEN)\n",
    "\n",
    "def similar_words(word):\n",
    "    word = preprocess_text(word, lang, preprocess_pipeline).strip()\n",
    "    idx = vocabulary.token_to_index(word)\n",
    "\n",
    "    if idx == oov_idx:\n",
    "        print(f\"Warn: `{word}` is out of index.\")\n",
    "\n",
    "    best_matches = np.flip(np.argsort(similarities[idx])[-11: -1])\n",
    "    return seq(best_matches).map(vocabulary.index_to_token)"
   ]
  },
  {
   "cell_type": "code",
   "execution_count": null,
   "metadata": {
    "pycharm": {
     "name": "#%%\n"
    }
   },
   "outputs": [],
   "source": [
    "# Test Embedding\n",
    "similar_words('gegessen')"
   ]
  }
 ],
 "metadata": {
  "kernelspec": {
   "display_name": "Python 3",
   "language": "python",
   "name": "python3"
  },
  "language_info": {
   "codemirror_mode": {
    "name": "ipython",
    "version": 3
   },
   "file_extension": ".py",
   "mimetype": "text/x-python",
   "name": "python",
   "nbconvert_exporter": "python",
   "pygments_lexer": "ipython3",
   "version": "3.8.8"
  }
 },
 "nbformat": 4,
 "nbformat_minor": 1
}